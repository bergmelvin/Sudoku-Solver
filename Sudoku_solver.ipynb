{
  "nbformat": 4,
  "nbformat_minor": 0,
  "metadata": {
    "colab": {
      "name": "Sudoku solver.ipynb",
      "provenance": [],
      "collapsed_sections": [],
      "authorship_tag": "ABX9TyMvPk4zhxqkxih+fMS1lmA1",
      "include_colab_link": true
    },
    "kernelspec": {
      "name": "python3",
      "display_name": "Python 3"
    },
    "language_info": {
      "name": "python"
    }
  },
  "cells": [
    {
      "cell_type": "markdown",
      "metadata": {
        "id": "view-in-github",
        "colab_type": "text"
      },
      "source": [
        "<a href=\"https://colab.research.google.com/github/bergmelvin/Sudoku_Solver/blob/main/Sudoku_solver.ipynb\" target=\"_parent\"><img src=\"https://colab.research.google.com/assets/colab-badge.svg\" alt=\"Open In Colab\"/></a>"
      ]
    },
    {
      "cell_type": "code",
      "source": [
        ""
      ],
      "metadata": {
        "id": "7BlRrmszAJyR"
      },
      "execution_count": null,
      "outputs": []
    },
    {
      "cell_type": "code",
      "execution_count": null,
      "metadata": {
        "id": "iwvlNFre_6Xa"
      },
      "outputs": [],
      "source": [
        "import numpy as np\n",
        "import requests "
      ]
    },
    {
      "cell_type": "code",
      "source": [
        "r = requests.get('https://sugoku.herokuapp.com/board?difficulty=easy')\n",
        "board = r.json()['board']\n",
        "print(np.matrix(board))\n",
        "\n",
        "# y = 5\n",
        "# x = 2"
      ],
      "metadata": {
        "colab": {
          "base_uri": "https://localhost:8080/"
        },
        "id": "dKRikJJCAAZ_",
        "outputId": "5707e9d0-a503-4da5-f9a8-09180b24a087"
      },
      "execution_count": null,
      "outputs": [
        {
          "output_type": "stream",
          "name": "stdout",
          "text": [
            "[[0 0 0 0 7 0 0 0 3]\n",
            " [0 0 3 0 0 9 0 7 8]\n",
            " [6 7 9 3 0 0 0 0 4]\n",
            " [2 0 5 6 0 0 7 0 9]\n",
            " [0 4 6 0 9 7 2 1 5]\n",
            " [7 9 0 2 0 0 3 0 0]\n",
            " [0 3 1 0 8 6 9 0 0]\n",
            " [8 0 0 0 0 0 4 6 1]\n",
            " [0 0 0 0 0 0 0 0 7]]\n"
          ]
        }
      ]
    },
    {
      "cell_type": "code",
      "source": [
        "def possible(y, x, num):\n",
        "  # Check row\n",
        "  for i in range(9):\n",
        "    if board[y][i] == num:\n",
        "      return False\n",
        "  \n",
        "  # Check column\n",
        "  for i in range(9):\n",
        "    if board[i][x] == num:\n",
        "      return False\n",
        "  \n",
        "  # Check square\n",
        "  y0 = (y//3)*3\n",
        "  x0 = (x//3)*3\n",
        "\n",
        "  for i in range(3):\n",
        "    for j in range(3):\n",
        "      if board[y0+i][x0+j] == num:\n",
        "        return False\n",
        "  \n",
        "  return True"
      ],
      "metadata": {
        "id": "bOTlyF3DCqLI"
      },
      "execution_count": null,
      "outputs": []
    },
    {
      "cell_type": "code",
      "source": [
        "def solve():\n",
        "  global board\n",
        "  for y in range(9):\n",
        "    for x in range(9):\n",
        "      if board[y][x] == 0:\n",
        "        for num in range(1,10):\n",
        "          if possible(y,x,num):\n",
        "            board[y][x] = num\n",
        "            solve()\n",
        "            board[y][x] = 0\n",
        "        return\n",
        "  print(np.matrix(board))\n",
        "  input(\"More?\")"
      ],
      "metadata": {
        "id": "ggFlffEdHhh2"
      },
      "execution_count": null,
      "outputs": []
    },
    {
      "cell_type": "code",
      "source": [
        "solve()"
      ],
      "metadata": {
        "colab": {
          "base_uri": "https://localhost:8080/"
        },
        "id": "cyjeo6e2JF8n",
        "outputId": "034df4aa-a99a-45d1-867f-e365e832bb9f"
      },
      "execution_count": null,
      "outputs": [
        {
          "name": "stdout",
          "output_type": "stream",
          "text": [
            "[[1 8 4 5 7 2 6 9 3]\n",
            " [5 2 3 4 6 9 1 7 8]\n",
            " [6 7 9 3 1 8 5 2 4]\n",
            " [2 1 5 6 3 4 7 8 9]\n",
            " [3 4 6 8 9 7 2 1 5]\n",
            " [7 9 8 2 5 1 3 4 6]\n",
            " [4 3 1 7 8 6 9 5 2]\n",
            " [8 5 7 9 2 3 4 6 1]\n",
            " [9 6 2 1 4 5 8 3 7]]\n",
            "More?\n",
            "[[5 8 4 1 7 2 6 9 3]\n",
            " [1 2 3 4 6 9 5 7 8]\n",
            " [6 7 9 3 5 8 1 2 4]\n",
            " [2 1 5 6 3 4 7 8 9]\n",
            " [3 4 6 8 9 7 2 1 5]\n",
            " [7 9 8 2 1 5 3 4 6]\n",
            " [4 3 1 7 8 6 9 5 2]\n",
            " [8 5 7 9 2 3 4 6 1]\n",
            " [9 6 2 5 4 1 8 3 7]]\n",
            "More?\n"
          ]
        }
      ]
    }
  ]
}